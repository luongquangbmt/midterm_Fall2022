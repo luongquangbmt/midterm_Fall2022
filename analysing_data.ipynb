{
 "cells": [
  {
   "cell_type": "markdown",
   "source": [
    "# Analysis of data set\n",
    "\n",
    "In this file, the dataset will be viewed and visually/manually analysed to better understand the data given to us"
   ],
   "metadata": {
    "collapsed": false
   }
  },
  {
   "cell_type": "markdown",
   "source": [
    "### imports"
   ],
   "metadata": {
    "collapsed": false
   }
  },
  {
   "cell_type": "code",
   "execution_count": 1,
   "outputs": [],
   "source": [
    "import pandas as pd\n",
    "import numpy as np\n",
    "\n",
    "# for stats tests\n",
    "import scipy as sp\n",
    "\n",
    "# for plotting\n",
    "import matplotlib as mpl\n",
    "import matplotlib.pyplot as plt\n",
    "\n",
    "# for machine learning\n",
    "from sklearn import preprocessing, model_selection, feature_selection, ensemble, linear_model, metrics, decomposition, svm, naive_bayes\n",
    "from sklearn.model_selection import train_test_split\n",
    "\n",
    "# from sklearn.preprocessing import StandardScaler, MinMaxScaler, RobustScaler\n",
    "from sklearn.linear_model import Perceptron, ElasticNet\n",
    "from sklearn.naive_bayes import GaussianNB\n",
    "from sklearn.neighbors import KNeighborsClassifier\n",
    "from sklearn.svm import SVC\n",
    "from sklearn.impute import SimpleImputer, KNNImputer\n",
    "from sklearn.compose import make_column_selector as selector\n",
    "from sklearn.calibration import CalibratedClassifierCV\n",
    "from sklearn.utils import class_weight\n",
    "from sklearn.gaussian_process import kernels\n",
    "\n",
    "# for metric evaluations\n",
    "from sklearn.metrics import accuracy_score\n",
    "from sklearn.metrics import classification_report, confusion_matrix"
   ],
   "metadata": {
    "collapsed": false
   }
  },
  {
   "cell_type": "markdown",
   "source": [
    "### loading data set"
   ],
   "metadata": {
    "collapsed": false
   }
  },
  {
   "cell_type": "code",
   "execution_count": 2,
   "outputs": [],
   "source": [
    "dataPath = 'ophiuchus_table.tsv'\n",
    "dataset = pd.read_csv(dataPath, delimiter=';',comment='#').dropna()"
   ],
   "metadata": {
    "collapsed": false
   }
  },
  {
   "cell_type": "markdown",
   "source": [
    "### quick table description/analysis of dataset"
   ],
   "metadata": {
    "collapsed": false
   }
  },
  {
   "cell_type": "code",
   "execution_count": 3,
   "outputs": [
    {
     "data": {
      "text/plain": "               Seq             Name      RAJ2000      DEJ2000      Signi070  \\\ncount   513.000000              513          513          513    513.000000   \nunique         NaN              513          509          511           NaN   \ntop            NaN  162035.2-231721  16 27 56.71  -24 51 00.1           NaN   \nfreq           NaN                1            2            2           NaN   \nmean    257.000000              NaN          NaN          NaN     62.058480   \nstd     148.234611              NaN          NaN          NaN    593.758981   \nmin       1.000000              NaN          NaN          NaN      0.000000   \n25%     129.000000              NaN          NaN          NaN      0.000000   \n50%     257.000000              NaN          NaN          NaN      0.000000   \n75%     385.000000              NaN          NaN          NaN      4.900000   \nmax     513.000000              NaN          NaN          NaN  11910.000000   \n\n             Sp070     e_Sp070  Sp070/Sbg070    Sconv070     Stot070  ...  \\\ncount   513.000000  513.000000    513.000000  513.000000  513.000000  ...   \nunique         NaN         NaN           NaN         NaN         NaN  ...   \ntop            NaN         NaN           NaN         NaN         NaN  ...   \nfreq           NaN         NaN           NaN         NaN         NaN  ...   \nmean      0.766368    0.041686      1.769805    1.499758    2.398127  ...   \nstd       6.470035    0.146020     13.575532   13.409242   16.421507  ...   \nmin      -0.349000    0.015000     -0.880000   -4.570000   -3.580000  ...   \n25%      -0.007950    0.015000     -0.020000   -0.037800   -0.043100  ...   \n50%       0.013100    0.015000      0.040000    0.106000    0.119000  ...   \n75%       0.041200    0.021000      0.150000    0.401000    0.831000  ...   \nmax     114.000000    2.600000    218.290000  272.000000  301.000000  ...   \n\n           SigniNH2        NpH2    NpH2/Nbg     NconvH2       NbgH2  \\\ncount    513.000000  513.000000  513.000000  513.000000  513.000000   \nunique          NaN         NaN         NaN         NaN         NaN   \ntop             NaN         NaN         NaN         NaN         NaN   \nfreq            NaN         NaN         NaN         NaN         NaN   \nmean      68.387719    5.518519    0.330897    2.219298   11.233528   \nstd      343.624028   26.285607    0.591996    7.896192    8.354752   \nmin        6.200000    0.200000    0.030000    0.100000    1.400000   \n25%       11.000000    0.700000    0.110000    0.300000    5.800000   \n50%       20.000000    1.400000    0.180000    0.600000    9.100000   \n75%       46.400000    3.500000    0.320000    1.600000   13.800000   \nmax     6877.000000  497.400000    9.590000  125.000000   59.900000   \n\n          FWHMaNH2    FWHMbNH2       PANH2        NSED  Coretype  \ncount   513.000000  513.000000  513.000000  513.000000       513  \nunique         NaN         NaN         NaN         NaN         3  \ntop            NaN         NaN         NaN         NaN  starless  \nfreq           NaN         NaN         NaN         NaN       320  \nmean     39.366472   25.313840   47.103314    0.590643       NaN  \nstd      19.434943   10.588399   53.005150    1.189172       NaN  \nmin      18.000000   18.000000  -36.000000    0.000000       NaN  \n25%      27.000000   18.000000   -1.000000    0.000000       NaN  \n50%      35.000000   21.000000   41.000000    0.000000       NaN  \n75%      46.000000   28.000000   92.000000    0.000000       NaN  \nmax     228.000000   86.000000  143.000000    4.000000       NaN  \n\n[11 rows x 63 columns]",
      "text/html": "<div>\n<style scoped>\n    .dataframe tbody tr th:only-of-type {\n        vertical-align: middle;\n    }\n\n    .dataframe tbody tr th {\n        vertical-align: top;\n    }\n\n    .dataframe thead th {\n        text-align: right;\n    }\n</style>\n<table border=\"1\" class=\"dataframe\">\n  <thead>\n    <tr style=\"text-align: right;\">\n      <th></th>\n      <th>Seq</th>\n      <th>Name</th>\n      <th>RAJ2000</th>\n      <th>DEJ2000</th>\n      <th>Signi070</th>\n      <th>Sp070</th>\n      <th>e_Sp070</th>\n      <th>Sp070/Sbg070</th>\n      <th>Sconv070</th>\n      <th>Stot070</th>\n      <th>...</th>\n      <th>SigniNH2</th>\n      <th>NpH2</th>\n      <th>NpH2/Nbg</th>\n      <th>NconvH2</th>\n      <th>NbgH2</th>\n      <th>FWHMaNH2</th>\n      <th>FWHMbNH2</th>\n      <th>PANH2</th>\n      <th>NSED</th>\n      <th>Coretype</th>\n    </tr>\n  </thead>\n  <tbody>\n    <tr>\n      <th>count</th>\n      <td>513.000000</td>\n      <td>513</td>\n      <td>513</td>\n      <td>513</td>\n      <td>513.000000</td>\n      <td>513.000000</td>\n      <td>513.000000</td>\n      <td>513.000000</td>\n      <td>513.000000</td>\n      <td>513.000000</td>\n      <td>...</td>\n      <td>513.000000</td>\n      <td>513.000000</td>\n      <td>513.000000</td>\n      <td>513.000000</td>\n      <td>513.000000</td>\n      <td>513.000000</td>\n      <td>513.000000</td>\n      <td>513.000000</td>\n      <td>513.000000</td>\n      <td>513</td>\n    </tr>\n    <tr>\n      <th>unique</th>\n      <td>NaN</td>\n      <td>513</td>\n      <td>509</td>\n      <td>511</td>\n      <td>NaN</td>\n      <td>NaN</td>\n      <td>NaN</td>\n      <td>NaN</td>\n      <td>NaN</td>\n      <td>NaN</td>\n      <td>...</td>\n      <td>NaN</td>\n      <td>NaN</td>\n      <td>NaN</td>\n      <td>NaN</td>\n      <td>NaN</td>\n      <td>NaN</td>\n      <td>NaN</td>\n      <td>NaN</td>\n      <td>NaN</td>\n      <td>3</td>\n    </tr>\n    <tr>\n      <th>top</th>\n      <td>NaN</td>\n      <td>162035.2-231721</td>\n      <td>16 27 56.71</td>\n      <td>-24 51 00.1</td>\n      <td>NaN</td>\n      <td>NaN</td>\n      <td>NaN</td>\n      <td>NaN</td>\n      <td>NaN</td>\n      <td>NaN</td>\n      <td>...</td>\n      <td>NaN</td>\n      <td>NaN</td>\n      <td>NaN</td>\n      <td>NaN</td>\n      <td>NaN</td>\n      <td>NaN</td>\n      <td>NaN</td>\n      <td>NaN</td>\n      <td>NaN</td>\n      <td>starless</td>\n    </tr>\n    <tr>\n      <th>freq</th>\n      <td>NaN</td>\n      <td>1</td>\n      <td>2</td>\n      <td>2</td>\n      <td>NaN</td>\n      <td>NaN</td>\n      <td>NaN</td>\n      <td>NaN</td>\n      <td>NaN</td>\n      <td>NaN</td>\n      <td>...</td>\n      <td>NaN</td>\n      <td>NaN</td>\n      <td>NaN</td>\n      <td>NaN</td>\n      <td>NaN</td>\n      <td>NaN</td>\n      <td>NaN</td>\n      <td>NaN</td>\n      <td>NaN</td>\n      <td>320</td>\n    </tr>\n    <tr>\n      <th>mean</th>\n      <td>257.000000</td>\n      <td>NaN</td>\n      <td>NaN</td>\n      <td>NaN</td>\n      <td>62.058480</td>\n      <td>0.766368</td>\n      <td>0.041686</td>\n      <td>1.769805</td>\n      <td>1.499758</td>\n      <td>2.398127</td>\n      <td>...</td>\n      <td>68.387719</td>\n      <td>5.518519</td>\n      <td>0.330897</td>\n      <td>2.219298</td>\n      <td>11.233528</td>\n      <td>39.366472</td>\n      <td>25.313840</td>\n      <td>47.103314</td>\n      <td>0.590643</td>\n      <td>NaN</td>\n    </tr>\n    <tr>\n      <th>std</th>\n      <td>148.234611</td>\n      <td>NaN</td>\n      <td>NaN</td>\n      <td>NaN</td>\n      <td>593.758981</td>\n      <td>6.470035</td>\n      <td>0.146020</td>\n      <td>13.575532</td>\n      <td>13.409242</td>\n      <td>16.421507</td>\n      <td>...</td>\n      <td>343.624028</td>\n      <td>26.285607</td>\n      <td>0.591996</td>\n      <td>7.896192</td>\n      <td>8.354752</td>\n      <td>19.434943</td>\n      <td>10.588399</td>\n      <td>53.005150</td>\n      <td>1.189172</td>\n      <td>NaN</td>\n    </tr>\n    <tr>\n      <th>min</th>\n      <td>1.000000</td>\n      <td>NaN</td>\n      <td>NaN</td>\n      <td>NaN</td>\n      <td>0.000000</td>\n      <td>-0.349000</td>\n      <td>0.015000</td>\n      <td>-0.880000</td>\n      <td>-4.570000</td>\n      <td>-3.580000</td>\n      <td>...</td>\n      <td>6.200000</td>\n      <td>0.200000</td>\n      <td>0.030000</td>\n      <td>0.100000</td>\n      <td>1.400000</td>\n      <td>18.000000</td>\n      <td>18.000000</td>\n      <td>-36.000000</td>\n      <td>0.000000</td>\n      <td>NaN</td>\n    </tr>\n    <tr>\n      <th>25%</th>\n      <td>129.000000</td>\n      <td>NaN</td>\n      <td>NaN</td>\n      <td>NaN</td>\n      <td>0.000000</td>\n      <td>-0.007950</td>\n      <td>0.015000</td>\n      <td>-0.020000</td>\n      <td>-0.037800</td>\n      <td>-0.043100</td>\n      <td>...</td>\n      <td>11.000000</td>\n      <td>0.700000</td>\n      <td>0.110000</td>\n      <td>0.300000</td>\n      <td>5.800000</td>\n      <td>27.000000</td>\n      <td>18.000000</td>\n      <td>-1.000000</td>\n      <td>0.000000</td>\n      <td>NaN</td>\n    </tr>\n    <tr>\n      <th>50%</th>\n      <td>257.000000</td>\n      <td>NaN</td>\n      <td>NaN</td>\n      <td>NaN</td>\n      <td>0.000000</td>\n      <td>0.013100</td>\n      <td>0.015000</td>\n      <td>0.040000</td>\n      <td>0.106000</td>\n      <td>0.119000</td>\n      <td>...</td>\n      <td>20.000000</td>\n      <td>1.400000</td>\n      <td>0.180000</td>\n      <td>0.600000</td>\n      <td>9.100000</td>\n      <td>35.000000</td>\n      <td>21.000000</td>\n      <td>41.000000</td>\n      <td>0.000000</td>\n      <td>NaN</td>\n    </tr>\n    <tr>\n      <th>75%</th>\n      <td>385.000000</td>\n      <td>NaN</td>\n      <td>NaN</td>\n      <td>NaN</td>\n      <td>4.900000</td>\n      <td>0.041200</td>\n      <td>0.021000</td>\n      <td>0.150000</td>\n      <td>0.401000</td>\n      <td>0.831000</td>\n      <td>...</td>\n      <td>46.400000</td>\n      <td>3.500000</td>\n      <td>0.320000</td>\n      <td>1.600000</td>\n      <td>13.800000</td>\n      <td>46.000000</td>\n      <td>28.000000</td>\n      <td>92.000000</td>\n      <td>0.000000</td>\n      <td>NaN</td>\n    </tr>\n    <tr>\n      <th>max</th>\n      <td>513.000000</td>\n      <td>NaN</td>\n      <td>NaN</td>\n      <td>NaN</td>\n      <td>11910.000000</td>\n      <td>114.000000</td>\n      <td>2.600000</td>\n      <td>218.290000</td>\n      <td>272.000000</td>\n      <td>301.000000</td>\n      <td>...</td>\n      <td>6877.000000</td>\n      <td>497.400000</td>\n      <td>9.590000</td>\n      <td>125.000000</td>\n      <td>59.900000</td>\n      <td>228.000000</td>\n      <td>86.000000</td>\n      <td>143.000000</td>\n      <td>4.000000</td>\n      <td>NaN</td>\n    </tr>\n  </tbody>\n</table>\n<p>11 rows × 63 columns</p>\n</div>"
     },
     "execution_count": 3,
     "metadata": {},
     "output_type": "execute_result"
    }
   ],
   "source": [
    "dataset.describe(include='all')"
   ],
   "metadata": {
    "collapsed": false
   }
  },
  {
   "cell_type": "code",
   "execution_count": 4,
   "outputs": [
    {
     "data": {
      "text/plain": "   Seq             Name      RAJ2000      DEJ2000  Signi070    Sp070  e_Sp070  \\\n0    1  162035.2-231721  16 20 35.20  -23 17 21.4       1.6 -0.01810    0.015   \n1    2  162135.3-234146  16 21 35.30  -23 41 46.8       0.0  0.00595    0.015   \n2    3  162145.2-234232  16 21 45.21  -23 42 32.6      47.0  0.75800    0.017   \n3    4  162149.9-234306  16 21 49.94  -23 43 06.6       0.4 -0.00339    0.015   \n\n   Sp070/Sbg070  Sconv070  Stot070  ...  SigniNH2 NpH2 NpH2/Nbg NconvH2  \\\n0         -0.59   -0.0656 -0.00282  ...       9.7  0.6     0.30     0.2   \n1          0.03    0.1070 -0.77100  ...      24.1  1.1     0.24     0.9   \n2          3.55    0.8610  1.48000  ...      50.8  2.2     0.37     0.6   \n3         -0.01   -0.0338  0.28400  ...      12.4  0.9     0.17     0.5   \n\n   NbgH2  FWHMaNH2  FWHMbNH2  PANH2  NSED      Coretype  \n0    1.9        21        19     98     0      starless  \n1    4.8        78        48    104     0      starless  \n2    5.9        23        18     -7     3  protostellar  \n3    5.1        45        29    143     0      starless  \n\n[4 rows x 63 columns]",
      "text/html": "<div>\n<style scoped>\n    .dataframe tbody tr th:only-of-type {\n        vertical-align: middle;\n    }\n\n    .dataframe tbody tr th {\n        vertical-align: top;\n    }\n\n    .dataframe thead th {\n        text-align: right;\n    }\n</style>\n<table border=\"1\" class=\"dataframe\">\n  <thead>\n    <tr style=\"text-align: right;\">\n      <th></th>\n      <th>Seq</th>\n      <th>Name</th>\n      <th>RAJ2000</th>\n      <th>DEJ2000</th>\n      <th>Signi070</th>\n      <th>Sp070</th>\n      <th>e_Sp070</th>\n      <th>Sp070/Sbg070</th>\n      <th>Sconv070</th>\n      <th>Stot070</th>\n      <th>...</th>\n      <th>SigniNH2</th>\n      <th>NpH2</th>\n      <th>NpH2/Nbg</th>\n      <th>NconvH2</th>\n      <th>NbgH2</th>\n      <th>FWHMaNH2</th>\n      <th>FWHMbNH2</th>\n      <th>PANH2</th>\n      <th>NSED</th>\n      <th>Coretype</th>\n    </tr>\n  </thead>\n  <tbody>\n    <tr>\n      <th>0</th>\n      <td>1</td>\n      <td>162035.2-231721</td>\n      <td>16 20 35.20</td>\n      <td>-23 17 21.4</td>\n      <td>1.6</td>\n      <td>-0.01810</td>\n      <td>0.015</td>\n      <td>-0.59</td>\n      <td>-0.0656</td>\n      <td>-0.00282</td>\n      <td>...</td>\n      <td>9.7</td>\n      <td>0.6</td>\n      <td>0.30</td>\n      <td>0.2</td>\n      <td>1.9</td>\n      <td>21</td>\n      <td>19</td>\n      <td>98</td>\n      <td>0</td>\n      <td>starless</td>\n    </tr>\n    <tr>\n      <th>1</th>\n      <td>2</td>\n      <td>162135.3-234146</td>\n      <td>16 21 35.30</td>\n      <td>-23 41 46.8</td>\n      <td>0.0</td>\n      <td>0.00595</td>\n      <td>0.015</td>\n      <td>0.03</td>\n      <td>0.1070</td>\n      <td>-0.77100</td>\n      <td>...</td>\n      <td>24.1</td>\n      <td>1.1</td>\n      <td>0.24</td>\n      <td>0.9</td>\n      <td>4.8</td>\n      <td>78</td>\n      <td>48</td>\n      <td>104</td>\n      <td>0</td>\n      <td>starless</td>\n    </tr>\n    <tr>\n      <th>2</th>\n      <td>3</td>\n      <td>162145.2-234232</td>\n      <td>16 21 45.21</td>\n      <td>-23 42 32.6</td>\n      <td>47.0</td>\n      <td>0.75800</td>\n      <td>0.017</td>\n      <td>3.55</td>\n      <td>0.8610</td>\n      <td>1.48000</td>\n      <td>...</td>\n      <td>50.8</td>\n      <td>2.2</td>\n      <td>0.37</td>\n      <td>0.6</td>\n      <td>5.9</td>\n      <td>23</td>\n      <td>18</td>\n      <td>-7</td>\n      <td>3</td>\n      <td>protostellar</td>\n    </tr>\n    <tr>\n      <th>3</th>\n      <td>4</td>\n      <td>162149.9-234306</td>\n      <td>16 21 49.94</td>\n      <td>-23 43 06.6</td>\n      <td>0.4</td>\n      <td>-0.00339</td>\n      <td>0.015</td>\n      <td>-0.01</td>\n      <td>-0.0338</td>\n      <td>0.28400</td>\n      <td>...</td>\n      <td>12.4</td>\n      <td>0.9</td>\n      <td>0.17</td>\n      <td>0.5</td>\n      <td>5.1</td>\n      <td>45</td>\n      <td>29</td>\n      <td>143</td>\n      <td>0</td>\n      <td>starless</td>\n    </tr>\n  </tbody>\n</table>\n<p>4 rows × 63 columns</p>\n</div>"
     },
     "execution_count": 4,
     "metadata": {},
     "output_type": "execute_result"
    }
   ],
   "source": [
    "dataset.head(4)"
   ],
   "metadata": {
    "collapsed": false
   }
  },
  {
   "cell_type": "code",
   "execution_count": 5,
   "outputs": [
    {
     "data": {
      "text/plain": "Seq           int64\nName         object\nRAJ2000      object\nDEJ2000      object\nSigni070    float64\n             ...   \nNbgH2       float64\nFWHMaNH2      int64\nFWHMbNH2      int64\nPANH2         int64\nNSED          int64\nLength: 62, dtype: object"
     },
     "execution_count": 5,
     "metadata": {},
     "output_type": "execute_result"
    }
   ],
   "source": [
    "# x column types\n",
    "x_column_types = dataset.dtypes.drop('Coretype') # we drop 'Coretype' as we'll use it for our y\n",
    "x_column_types # .keys() # for the column names only"
   ],
   "metadata": {
    "collapsed": false
   }
  },
  {
   "cell_type": "code",
   "execution_count": 6,
   "outputs": [
    {
     "data": {
      "text/plain": "array(['starless', 'protostellar', 'prestellar'], dtype=object)"
     },
     "execution_count": 6,
     "metadata": {},
     "output_type": "execute_result"
    }
   ],
   "source": [
    "y_unique_types = dataset['Coretype'].unique()\n",
    "\n",
    "y_unique_types"
   ],
   "metadata": {
    "collapsed": false
   }
  },
  {
   "cell_type": "code",
   "execution_count": null,
   "outputs": [],
   "source": [],
   "metadata": {
    "collapsed": false
   }
  }
 ],
 "metadata": {
  "kernelspec": {
   "display_name": "Python 3",
   "language": "python",
   "name": "python3"
  },
  "language_info": {
   "codemirror_mode": {
    "name": "ipython",
    "version": 2
   },
   "file_extension": ".py",
   "mimetype": "text/x-python",
   "name": "python",
   "nbconvert_exporter": "python",
   "pygments_lexer": "ipython2",
   "version": "2.7.6"
  }
 },
 "nbformat": 4,
 "nbformat_minor": 0
}
